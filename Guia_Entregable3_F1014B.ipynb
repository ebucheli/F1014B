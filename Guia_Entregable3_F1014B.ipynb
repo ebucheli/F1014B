{
 "cells": [
  {
   "cell_type": "markdown",
   "metadata": {},
   "source": [
    "# Guía para tercer entregable del reto: Frenado Electromagnético\n",
    "\n",
    "Clase: F1014B Modelación Computacional de Sistemas Electromagnéticos\n",
    "\n",
    "Autor: Edoardo Bucheli\n",
    "\n",
    "Profesor de Cátedra, Tec de Monterrey Campus Santa Fe"
   ]
  },
  {
   "cell_type": "markdown",
   "metadata": {},
   "source": [
    "### Graficar la Fuerza que ejerce el campo magnético sobre el dipolo\n",
    "\n",
    "En el entregable anterior graficamos la posición y velocidad del dipolo a lo largo del tiempo. Como último paso necesitamos únicamente graficar la fuerza que ejerce el campo magnético sobre el dipolo y que provoca la desaceleración del mismo. Es decir que queremos graficar el cambio en la fuerza $F_z$ de la figure siguiente,\n",
    "\n",
    "<img src=\"./imgs/Fz.png\" />\n",
    "\n",
    "La buena noticia es que con el cálculo de la velocidad que ya hicimos anterioremente es fácil lograr esto,\n",
    "\n",
    "Para el entregable anterior, resolvimos la siguiente ED para obtener los gráficos de la posición y la velocidad,\n",
    "\n",
    "$$m\\frac{d^2z}{dt^2} = -mg - \\frac{9(\\mu\\mu_0)^2a^4}{4R}\\frac{z^2}{\\sqrt{(z^2+a^2)^5}}\\frac{dz}{dt}$$"
   ]
  },
  {
   "cell_type": "markdown",
   "metadata": {},
   "source": [
    "### Una expresión matemática para la fuerza\n",
    "\n",
    "Si retrocedemos un poco, veremos que nuestra ED se obtuvo a partir de la Segunda Ley de Newton inspeccionando el sistema y nuestra ED podemos concluir que,\n",
    "\n",
    "$$m\\frac{d^2z}{dt^2}=-mg+F_z$$\n",
    "\n",
    "\n",
    "\n",
    "Por lo que podemos expresar a la fuerza de la siguiente manera,\n",
    "\n",
    "$$F_z = -\\frac{9(\\mu\\mu_0)^2a^4}{4R}\\frac{z^2}{\\sqrt{(z^2+a^2)^5}}\\frac{dz}{dt}$$\n",
    "\n",
    "Si analizas la expresión anterior, veremos que dadas las sustituciones que tomamos anteriormente podemos reescribir esta ecuación como,\n",
    "\n",
    "$$F_z = -k \\cdot p(z) \\cdot z'$$\n",
    "\n",
    "Y recordando que $x = z$ y $y = z'$ podemos calcular la fuerza directamente."
   ]
  },
  {
   "cell_type": "markdown",
   "metadata": {},
   "source": [
    "### Consideraciones de Python\n",
    "\n",
    "Puedes usar las versiones de $k$ $p$, $x$ y $y$ que calculaste anterioremente. \n",
    "\n",
    "Algo a considerar es que los valores de $x$ y $y$ los guardamos en listas de Python. Sin embargo, para aplicarles operaciones a los elementos de una lista (sin tener que generar ciclos) hay que transformarlos a arreglos de numpy. \n",
    "\n",
    "Esto se puede lograr con la función `np.array()`. Es decir que solo necesitas correr el código `x_new = np.array(x)` para generar un arreglo numpy de nombre `x_new` con los valores de la lista `x`."
   ]
  },
  {
   "cell_type": "code",
   "execution_count": null,
   "metadata": {},
   "outputs": [],
   "source": []
  }
 ],
 "metadata": {
  "kernelspec": {
   "display_name": "Python 3",
   "language": "python",
   "name": "python3"
  },
  "language_info": {
   "codemirror_mode": {
    "name": "ipython",
    "version": 3
   },
   "file_extension": ".py",
   "mimetype": "text/x-python",
   "name": "python",
   "nbconvert_exporter": "python",
   "pygments_lexer": "ipython3",
   "version": "3.6.7"
  }
 },
 "nbformat": 4,
 "nbformat_minor": 2
}
